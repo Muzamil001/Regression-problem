{
 "cells": [
  {
   "cell_type": "code",
   "execution_count": 141,
   "metadata": {},
   "outputs": [],
   "source": [
    "import pandas as pd\n",
    "import matplotlib.pyplot as plt\n",
    "import seaborn as sns\n",
    "import numpy as np\n",
    "from sklearn.preprocessing import LabelEncoder\n",
    "from sklearn.feature_selection import SelectFromModel\n",
    "from scipy.stats import norm\n",
    "from sklearn.preprocessing import StandardScaler\n",
    "from sklearn.metrics import mean_squared_error\n",
    "from sklearn.linear_model import LinearRegression\n",
    "from scipy import stats\n",
    "from sklearn.feature_selection import VarianceThreshold, mutual_info_classif, mutual_info_regression\n",
    "from sklearn.feature_selection import SelectKBest, SelectPercentile\n",
    "import warnings\n",
    "from sklearn.model_selection import train_test_split\n",
    "from sklearn.impute import SimpleImputer\n",
    "from sklearn.feature_selection import VarianceThreshold\n",
    "import sklearn.impute\n",
    "import statsmodels.api as sm\n",
    "from sklearn.metrics import accuracy_score\n",
    "from sklearn import linear_model\n",
    "from mlxtend.feature_selection import SequentialFeatureSelector as SFS\n",
    "from sklearn.metrics import make_scorer\n",
    "from sklearn.ensemble import BaggingRegressor\n",
    "from sklearn.ensemble import RandomForestRegressor\n",
    "from sklearn.ensemble import RandomForestClassifier\n",
    "from sklearn.neighbors import KNeighborsClassifier\n",
    "from sklearn import svm\n",
    "from sklearn.ensemble import GradientBoostingRegressor\n",
    "from sklearn.metrics import r2_score\n",
    "from sklearn.model_selection import KFold\n",
    "from sklearn.ensemble import AdaBoostRegressor\n",
    "from sklearn.model_selection import cross_val_score\n",
    "from sklearn.tree import DecisionTreeRegressor\n",
    "from sklearn.model_selection import GridSearchCV\n",
    "warnings.filterwarnings(\"ignore\")\n",
    "%matplotlib inline"
   ]
  },
  {
   "cell_type": "markdown",
   "metadata": {},
   "source": [
    "# Introduction"
   ]
  },
  {
   "cell_type": "markdown",
   "metadata": {},
   "source": [
    "    Purpose of this Epxirment is to play with Missing data.\n",
    "    In cotagorical data and Numeric.\n",
    "    There are different ways we can deal with catagorical data as given below\n",
    "    1.\"Rmove Rows or columns\" :Remove the complet row but problem is loss of information \n",
    "    2.\"Replace with Most Frequenet\":Put most frequently used value in that particular colum\n",
    "    but problem is imblancing data\n",
    "    3.\"Apply classficiation algorithem\" which is quite good then option \"1\" and \"2\"\n",
    "    4.\"Apply clustering algorithem\" which is consider a ver good solution \n",
    "    keep in mind all these could only apply to catagorical data "
   ]
  },
  {
   "cell_type": "markdown",
   "metadata": {},
   "source": [
    "    "
   ]
  },
  {
   "cell_type": "markdown",
   "metadata": {},
   "source": [
    "#### Reading Train and Test File"
   ]
  },
  {
   "cell_type": "code",
   "execution_count": 2,
   "metadata": {},
   "outputs": [],
   "source": [
    "#reading train\n",
    "df_train=pd.read_csv(\"train.csv\")\n",
    "df_test=pd.read_csv(\"test.csv\")\n",
    "\n",
    "\n"
   ]
  },
  {
   "cell_type": "markdown",
   "metadata": {},
   "source": [
    "#### checking shape"
   ]
  },
  {
   "cell_type": "code",
   "execution_count": 3,
   "metadata": {},
   "outputs": [
    {
     "data": {
      "text/plain": [
       "((1460, 81), (1459, 80))"
      ]
     },
     "execution_count": 3,
     "metadata": {},
     "output_type": "execute_result"
    }
   ],
   "source": [
    "#How many rows and columns we have in both train and test\n",
    "df_train.shape,df_test.shape"
   ]
  },
  {
   "cell_type": "markdown",
   "metadata": {},
   "source": [
    "#### checking data types"
   ]
  },
  {
   "cell_type": "code",
   "execution_count": 4,
   "metadata": {},
   "outputs": [
    {
     "name": "stdout",
     "output_type": "stream",
     "text": [
      "object     43\n",
      "int64      35\n",
      "float64     3\n",
      "dtype: int64\n",
      "object     43\n",
      "int64      26\n",
      "float64    11\n",
      "dtype: int64\n"
     ]
    }
   ],
   "source": [
    "#How many type of nature data we have \n",
    "print(df_train.dtypes.value_counts())\n",
    "\n",
    "print(df_test.dtypes.value_counts())"
   ]
  },
  {
   "cell_type": "markdown",
   "metadata": {},
   "source": [
    "##### checking null sapratly "
   ]
  },
  {
   "cell_type": "markdown",
   "metadata": {},
   "source": [
    "###### Catagorical"
   ]
  },
  {
   "cell_type": "code",
   "execution_count": 5,
   "metadata": {},
   "outputs": [],
   "source": [
    "# Finding null in Catgorical dataset\n",
    "# df_train[df_train.dtypes[df_train.dtypes=='object'].index].isnull().sum()"
   ]
  },
  {
   "cell_type": "code",
   "execution_count": 6,
   "metadata": {},
   "outputs": [],
   "source": [
    "# Finding null in Catgorical dataset\n",
    "# df_train[df_train.dtypes[df_train.dtypes!='object'].index].isnull().sum()"
   ]
  },
  {
   "cell_type": "code",
   "execution_count": 7,
   "metadata": {},
   "outputs": [
    {
     "data": {
      "text/plain": [
       "(19, Index(['LotFrontage', 'Alley', 'MasVnrType', 'MasVnrArea', 'BsmtQual',\n",
       "        'BsmtCond', 'BsmtExposure', 'BsmtFinType1', 'BsmtFinType2',\n",
       "        'Electrical', 'FireplaceQu', 'GarageType', 'GarageYrBlt',\n",
       "        'GarageFinish', 'GarageQual', 'GarageCond', 'PoolQC', 'Fence',\n",
       "        'MiscFeature'],\n",
       "       dtype='object'))"
      ]
     },
     "execution_count": 7,
     "metadata": {},
     "output_type": "execute_result"
    }
   ],
   "source": [
    "#Count the number of Nans each COlumns has\n",
    "nans=pd.isnull(df_train).sum()\n",
    "len(nans[nans>0].index),nans[nans>0].index"
   ]
  },
  {
   "cell_type": "code",
   "execution_count": 8,
   "metadata": {},
   "outputs": [
    {
     "data": {
      "text/plain": [
       "(33, Index(['MSZoning', 'LotFrontage', 'Alley', 'Utilities', 'Exterior1st',\n",
       "        'Exterior2nd', 'MasVnrType', 'MasVnrArea', 'BsmtQual', 'BsmtCond',\n",
       "        'BsmtExposure', 'BsmtFinType1', 'BsmtFinSF1', 'BsmtFinType2',\n",
       "        'BsmtFinSF2', 'BsmtUnfSF', 'TotalBsmtSF', 'BsmtFullBath',\n",
       "        'BsmtHalfBath', 'KitchenQual', 'Functional', 'FireplaceQu',\n",
       "        'GarageType', 'GarageYrBlt', 'GarageFinish', 'GarageCars', 'GarageArea',\n",
       "        'GarageQual', 'GarageCond', 'PoolQC', 'Fence', 'MiscFeature',\n",
       "        'SaleType'],\n",
       "       dtype='object'))"
      ]
     },
     "execution_count": 8,
     "metadata": {},
     "output_type": "execute_result"
    }
   ],
   "source": [
    "nans=pd.isnull(df_test).sum()\n",
    "\n",
    "len(nans[nans>0].index),nans[nans>0].index"
   ]
  },
  {
   "cell_type": "code",
   "execution_count": null,
   "metadata": {},
   "outputs": [],
   "source": []
  },
  {
   "cell_type": "code",
   "execution_count": 9,
   "metadata": {
    "scrolled": false
   },
   "outputs": [
    {
     "name": "stdout",
     "output_type": "stream",
     "text": [
      "['LotFrontage', 'Alley', 'MasVnrType', 'MasVnrArea', 'BsmtQual', 'BsmtCond', 'BsmtExposure', 'BsmtFinType1', 'BsmtFinType2', 'Electrical', 'FireplaceQu', 'GarageType', 'GarageYrBlt', 'GarageFinish', 'GarageQual', 'GarageCond', 'PoolQC', 'Fence', 'MiscFeature']\n",
      "Feature :  LotFrontage\n",
      "Type    :  float64\n",
      "[65.0, 80.0, 68.0, 60.0, 84.0, 85.0, 75.0, nan, 51.0, 50.0, 70.0, 91.0, 72.0, 66.0]\n",
      "RangeIndex(start=0, stop=1460, step=1)\n",
      "Done\n",
      "Remaining feature :  18\n",
      "Feature :  Alley\n",
      "Type    :  object\n",
      "[nan]\n",
      "RangeIndex(start=0, stop=1460, step=1)\n",
      "Done\n",
      "Remaining feature :  17\n",
      "Feature :  MasVnrType\n",
      "Type    :  object\n",
      "['BrkFace', 'None', 'Stone']\n",
      "RangeIndex(start=0, stop=1460, step=1)\n",
      "Done\n",
      "Remaining feature :  16\n",
      "Feature :  MasVnrArea\n",
      "Type    :  float64\n",
      "[196.0, 0.0, 162.0, 350.0, 186.0, 240.0, 286.0, 306.0, 212.0, 180.0]\n",
      "RangeIndex(start=0, stop=1460, step=1)\n",
      "Done\n",
      "Remaining feature :  15\n",
      "Feature :  BsmtQual\n",
      "Type    :  object\n",
      "['Gd', 'TA', 'Ex', nan]\n",
      "RangeIndex(start=0, stop=1460, step=1)\n",
      "Done\n",
      "Remaining feature :  14\n",
      "Feature :  BsmtCond\n",
      "Type    :  object\n",
      "['TA', 'Gd', nan]\n",
      "RangeIndex(start=0, stop=1460, step=1)\n",
      "Done\n",
      "Remaining feature :  13\n",
      "Feature :  BsmtExposure\n",
      "Type    :  object\n",
      "['No', 'Gd', 'Mn', 'Av', nan]\n",
      "RangeIndex(start=0, stop=1460, step=1)\n",
      "Done\n",
      "Remaining feature :  12\n",
      "Feature :  BsmtFinType1\n",
      "Type    :  object\n",
      "['GLQ', 'ALQ', 'Unf', 'Rec', 'BLQ', nan, 'LwQ']\n",
      "RangeIndex(start=0, stop=1460, step=1)\n",
      "Done\n",
      "Remaining feature :  11\n",
      "Feature :  BsmtFinType2\n",
      "Type    :  object\n",
      "['Unf', 'BLQ', nan]\n",
      "RangeIndex(start=0, stop=1460, step=1)\n",
      "Done\n",
      "Remaining feature :  10\n",
      "Feature :  Electrical\n",
      "Type    :  object\n",
      "['SBrkr', 'FuseF', 'FuseA']\n",
      "RangeIndex(start=0, stop=1460, step=1)\n",
      "Done\n",
      "Remaining feature :  9\n",
      "Feature :  FireplaceQu\n",
      "Type    :  object\n",
      "[nan, 'TA', 'Gd', 'Fa']\n",
      "RangeIndex(start=0, stop=1460, step=1)\n",
      "Done\n",
      "Remaining feature :  8\n",
      "Feature :  GarageType\n",
      "Type    :  object\n",
      "['Attchd', 'Detchd', 'BuiltIn', 'CarPort']\n",
      "RangeIndex(start=0, stop=1460, step=1)\n",
      "Done\n",
      "Remaining feature :  7\n",
      "Feature :  GarageYrBlt\n",
      "Type    :  float64\n",
      "[2003.0, 1976.0, 2001.0, 1998.0, 2000.0, 1993.0, 2004.0, 1973.0, 1931.0, 1939.0, 1965.0, 2005.0, 1962.0, 2006.0, 1960.0, 1991.0, 1970.0, 1967.0, 1958.0]\n",
      "RangeIndex(start=0, stop=1460, step=1)\n",
      "Done\n",
      "Remaining feature :  6\n",
      "Feature :  GarageFinish\n",
      "Type    :  object\n",
      "['RFn', 'Unf', 'Fin']\n",
      "RangeIndex(start=0, stop=1460, step=1)\n",
      "Done\n",
      "Remaining feature :  5\n",
      "Feature :  GarageQual\n",
      "Type    :  object\n",
      "['TA', 'Fa', 'Gd']\n",
      "RangeIndex(start=0, stop=1460, step=1)\n",
      "Done\n",
      "Remaining feature :  4\n",
      "Feature :  GarageCond\n",
      "Type    :  object\n",
      "['TA']\n",
      "RangeIndex(start=0, stop=1460, step=1)\n",
      "Done\n",
      "Remaining feature :  3\n",
      "Feature :  PoolQC\n",
      "Type    :  object\n",
      "[nan]\n",
      "RangeIndex(start=0, stop=1460, step=1)\n",
      "Done\n",
      "Remaining feature :  2\n",
      "Feature :  Fence\n",
      "Type    :  object\n",
      "[nan, 'MnPrv', 'GdWo', 'GdPrv']\n",
      "RangeIndex(start=0, stop=1460, step=1)\n",
      "Done\n",
      "Remaining feature :  1\n",
      "Feature :  MiscFeature\n",
      "Type    :  object\n",
      "[nan, 'Shed']\n",
      "RangeIndex(start=0, stop=1460, step=1)\n",
      "Done\n",
      "Remaining feature :  0\n"
     ]
    }
   ],
   "source": [
    "def extract_feat_name_for_nan(df_local):\n",
    "    '''This function return feature having Nan'''\n",
    "    nans=pd.isnull(df_local).sum()\n",
    "    return list(nans[nans>0].index)\n",
    "\n",
    "def feature_transformation(local_df):\n",
    "    ''' SimpleImputer and Label Encoder'''\n",
    "    ''' Purpose of this function is to fill nans in training feature 'X' for temperory time\n",
    "        Note: Same feature 'X' nan will be prediction when it have to be treated as Target variable'''\n",
    "    \n",
    "    for col in local_df.columns:  \n",
    "        \n",
    "        # apply Imputer to nan feature of object datatype\n",
    "        if (local_df[col].dtype=='object' and local_df[col].isnull().sum()>0) or local_df[col].dtype=='object':\n",
    "            imp = SimpleImputer(missing_values=np.nan, strategy='most_frequent')\n",
    "            imp=imp.fit(local_df[col].values.reshape(-1, 1))\n",
    "            \n",
    "            #Transformation of Label Encoding\n",
    "            local_df[col]=imp.fit_transform(local_df[col].values.reshape(-1, 1))\n",
    "            local_df[col]=LabelEncoder().fit_transform(list(local_df[col])).astype(float)\n",
    "           \n",
    "        elif local_df[col].dtype!='object':\n",
    "            imp = SimpleImputer(missing_values=np.nan, strategy='most_frequent')\n",
    "            imp=imp.fit(local_df[col].values.reshape(-1, 1))\n",
    "            local_df[col]=imp.fit_transform(local_df[col].values.reshape(-1, 1)).astype(float)\n",
    "\n",
    "            \n",
    "    \n",
    "    return local_df\n",
    "def get_df_into_cleaning(df_local):\n",
    "    \n",
    "    #clean feature will be replace into this dataframe\n",
    "    df_local_clean=df_local\n",
    "    \n",
    "    #if condition mean it only work for training dataset\n",
    "    if 'SalePrice' in df_local.columns:\n",
    "        df_local=df_local.drop('SalePrice',axis=1)\n",
    "        \n",
    "    #return feature having 'nan'    \n",
    "    nan_feature=extract_feat_name_for_nan(df_local_clean)\n",
    "    print(nan_feature)\n",
    "    \n",
    "    #iterating through feature having 'Nan'\n",
    "    for cur_feature in nan_feature:\n",
    "        \n",
    "    \n",
    "        #recopy it becouse\n",
    "        df_local=df_local_clean.copy()\n",
    "    \n",
    "        \n",
    "        print(\"Feature : \",cur_feature)\n",
    "        print(\"Type    : \",df_local[cur_feature].dtypes)\n",
    "        print(list(df_local[cur_feature].head(20).unique()))\n",
    "        \n",
    "        #Copy the dataset\n",
    "        dummy=df_local.copy()\n",
    "\n",
    "\n",
    "        #DataFrame without Current nan feature missing variable\n",
    "        dummy_data=dummy[dummy.columns[dummy.columns!=cur_feature]]\n",
    "\n",
    "        print(dummy_data.index)\n",
    "        \n",
    "        # replace all other nan feature with most feaquent number for temporory time\n",
    "        dummy_data=feature_transformation(dummy_data)\n",
    "\n",
    "        # put back Alley column in Dataset\n",
    "        dummy_data[cur_feature]=dummy[cur_feature]\n",
    "\n",
    "\n",
    "        # Split into Train and Test based on Nan\n",
    "        train_data_exp=dummy_data[pd.notnull(dummy_data[cur_feature])]\n",
    "        test_data_exp=dummy_data[pd.isnull(dummy_data[cur_feature])] #predicted will be fit here\n",
    "\n",
    "        # Testing data for predicting\n",
    "        X_test_E=test_data_exp.drop(cur_feature,axis=1)\n",
    "\n",
    "\n",
    "\n",
    "        #Label Encoding target Column for train only where no Nan\n",
    "        train_data_exp[cur_feature]=LabelEncoder().fit_transform(list(train_data_exp[cur_feature])).astype(float)\n",
    "\n",
    "        #Apply model for prediction number for nan\n",
    "        from sklearn.neighbors import KNeighborsClassifier\n",
    "\n",
    "        X_train_E=train_data_exp.drop(cur_feature,axis=1)\n",
    "        y_train_E=train_data_exp[cur_feature]\n",
    "\n",
    "        classes=len(train_data_exp[cur_feature].value_counts())\n",
    "\n",
    "        #Create KNN Classifier\n",
    "        knn = KNeighborsClassifier(n_neighbors=classes)\n",
    "\n",
    "        #Train the model using the training sets\n",
    "        knn.fit(X_train_E, y_train_E)\n",
    "        #Predict the response for test dataset\n",
    "        y_pred = knn.predict(X_test_E)\n",
    "        \n",
    "        \n",
    "        #Predicted  value will replace in dummy based on index in next step \n",
    "        dummy=feature_transformation(dummy)\n",
    "        \n",
    " \n",
    "        #Predicted value will put back on same indexes\n",
    "        Nan_indexes=X_test_E.index\n",
    "\n",
    "        #Predicted value will replace Nan \n",
    "        dummy[cur_feature][Nan_indexes]=y_pred\n",
    "\n",
    "        # ''' Check predicted value against Orignal value'''\n",
    "        # for index in zip(dummy[cur_feature],df_together[cur_feature]):\n",
    "        #     print(index)\n",
    "        '''After checking replace in Test and Train : all_dataset'''\n",
    "        df_local_clean[cur_feature]=dummy[cur_feature]\n",
    "\n",
    "        print(\"Done\")\n",
    "        nans=pd.isnull(df_local_clean).sum()\n",
    "        print(\"Remaining feature : \",len(nans[nans>0]))\n",
    "        \n",
    "    return df_local_clean\n",
    "\n",
    "\n",
    "df_train_clean=get_df_into_cleaning(df_train)\n",
    "# df_test_clean=get_df_into_cleaning(df_test,df_test_clean)\n",
    "\n"
   ]
  },
  {
   "cell_type": "markdown",
   "metadata": {},
   "source": [
    "    Now Lets see how much Nan column we have in full dataset"
   ]
  },
  {
   "cell_type": "code",
   "execution_count": 10,
   "metadata": {},
   "outputs": [
    {
     "data": {
      "text/plain": [
       "Series([], dtype: int64)"
      ]
     },
     "execution_count": 10,
     "metadata": {},
     "output_type": "execute_result"
    }
   ],
   "source": [
    "#check null in train\n",
    "nans=pd.isnull(df_train_clean).sum()\n",
    "nans[nans>0]"
   ]
  },
  {
   "cell_type": "code",
   "execution_count": 11,
   "metadata": {},
   "outputs": [],
   "source": [
    "# #check null in Test\n",
    "# nans=pd.isnull(df_test_clean).sum()\n",
    "# nans[nans>0]"
   ]
  },
  {
   "cell_type": "markdown",
   "metadata": {},
   "source": [
    "### check info"
   ]
  },
  {
   "cell_type": "markdown",
   "metadata": {},
   "source": [
    "###### data types"
   ]
  },
  {
   "cell_type": "code",
   "execution_count": 12,
   "metadata": {},
   "outputs": [
    {
     "data": {
      "text/plain": [
       "int64      35\n",
       "object     27\n",
       "float64    19\n",
       "dtype: int64"
      ]
     },
     "execution_count": 12,
     "metadata": {},
     "output_type": "execute_result"
    }
   ],
   "source": [
    "#how many types we have df_test_clean : df_train_clean\n",
    "df_train_clean.dtypes.value_counts()"
   ]
  },
  {
   "cell_type": "markdown",
   "metadata": {},
   "source": [
    "###### float"
   ]
  },
  {
   "cell_type": "code",
   "execution_count": 13,
   "metadata": {},
   "outputs": [
    {
     "data": {
      "text/plain": [
       "Index(['LotFrontage', 'Alley', 'MasVnrType', 'MasVnrArea', 'BsmtQual',\n",
       "       'BsmtCond', 'BsmtExposure', 'BsmtFinType1', 'BsmtFinType2',\n",
       "       'Electrical', 'FireplaceQu', 'GarageType', 'GarageYrBlt',\n",
       "       'GarageFinish', 'GarageQual', 'GarageCond', 'PoolQC', 'Fence',\n",
       "       'MiscFeature'],\n",
       "      dtype='object')"
      ]
     },
     "execution_count": 13,
     "metadata": {},
     "output_type": "execute_result"
    }
   ],
   "source": [
    "#check any  df_test_clean : df_train_clean\n",
    "df_train_clean.dtypes[df_train_clean.dtypes=='float64'].index"
   ]
  },
  {
   "cell_type": "code",
   "execution_count": 14,
   "metadata": {},
   "outputs": [
    {
     "name": "stdout",
     "output_type": "stream",
     "text": [
      "LotFrontage [ 65.  80.  68.  60.  84.  85.  75.  35.  51.  50.  70.  91.  72.  66.\n",
      " 101.  57.  44. 110.  98.  47. 108. 112.  74. 115.  31.  61.  48.  33.]\n",
      "Alley [1. 0.]\n",
      "MasVnrType [1. 2. 3.]\n",
      "MasVnrArea [196.   0. 162. 350. 186. 240. 286. 306. 212. 180. 380. 281. 640. 200.\n",
      " 246. 132. 650. 101. 412.]\n",
      "BsmtQual [2. 3. 0.]\n",
      "BsmtCond [3. 1.]\n",
      "BsmtExposure [3. 1. 2. 0.]\n",
      "BsmtFinType1 [2. 0. 5. 4. 1. 3.]\n",
      "BsmtFinType2 [5. 1. 0. 4. 3.]\n",
      "Electrical [4. 1. 0. 2.]\n",
      "FireplaceQu [4. 2. 1. 3. 0.]\n",
      "GarageType [1. 5. 3. 4.]\n",
      "GarageYrBlt [2003. 1976. 2001. 1998. 2000. 1993. 2004. 1973. 1931. 1939. 1965. 2005.\n",
      " 1962. 2006. 1960. 1991. 1970. 1967. 1958. 1930. 2002. 1968. 2007. 2008.\n",
      " 1957. 1920. 1966. 1959. 1995. 1954. 1953.    8. 1983. 1977.   36.]\n",
      "GarageFinish [1. 2. 0.]\n",
      "GarageQual [4. 1. 2.]\n",
      "GarageCond [4. 1. 2.]\n",
      "PoolQC [0. 1. 2.]\n",
      "Fence [0. 2. 1.]\n",
      "MiscFeature [2.]\n"
     ]
    }
   ],
   "source": [
    "#check any  df_test_clean : df_train_clean\n",
    "for col in df_train_clean.dtypes[df_train_clean.dtypes=='float64'].index:\n",
    "    print(col,df_train_clean[col].head(50).unique())"
   ]
  },
  {
   "cell_type": "markdown",
   "metadata": {},
   "source": [
    "###### Object "
   ]
  },
  {
   "cell_type": "code",
   "execution_count": 15,
   "metadata": {},
   "outputs": [
    {
     "data": {
      "text/plain": [
       "Index(['MSZoning', 'Street', 'LotShape', 'LandContour', 'Utilities',\n",
       "       'LotConfig', 'LandSlope', 'Neighborhood', 'Condition1', 'Condition2',\n",
       "       'BldgType', 'HouseStyle', 'RoofStyle', 'RoofMatl', 'Exterior1st',\n",
       "       'Exterior2nd', 'ExterQual', 'ExterCond', 'Foundation', 'Heating',\n",
       "       'HeatingQC', 'CentralAir', 'KitchenQual', 'Functional', 'PavedDrive',\n",
       "       'SaleType', 'SaleCondition'],\n",
       "      dtype='object')"
      ]
     },
     "execution_count": 15,
     "metadata": {},
     "output_type": "execute_result"
    }
   ],
   "source": [
    "#check any  df_test_clean : df_train_clean\n",
    "df_train_clean.dtypes[df_train_clean.dtypes=='object'].index"
   ]
  },
  {
   "cell_type": "code",
   "execution_count": 16,
   "metadata": {},
   "outputs": [
    {
     "name": "stdout",
     "output_type": "stream",
     "text": [
      "MSZoning ['RL' 'RM' 'C (all)' 'FV']\n",
      "Street ['Pave']\n",
      "LotShape ['Reg' 'IR1' 'IR2']\n",
      "LandContour ['Lvl' 'Bnk']\n",
      "Utilities ['AllPub']\n",
      "LotConfig ['Inside' 'FR2' 'Corner' 'CulDSac']\n",
      "LandSlope ['Gtl']\n",
      "Neighborhood ['CollgCr' 'Veenker' 'Crawfor' 'NoRidge' 'Mitchel' 'Somerst' 'NWAmes'\n",
      " 'OldTown' 'BrkSide' 'Sawyer' 'NridgHt' 'NAmes' 'SawyerW' 'IDOTRR'\n",
      " 'MeadowV' 'Edwards' 'Timber']\n",
      "Condition1 ['Norm' 'Feedr' 'PosN' 'Artery' 'RRAe']\n",
      "Condition2 ['Norm' 'Artery' 'RRNn']\n",
      "BldgType ['1Fam' '2fmCon' 'Duplex' 'TwnhsE']\n",
      "HouseStyle ['2Story' '1Story' '1.5Fin' '1.5Unf' 'SFoyer']\n",
      "RoofStyle ['Gable' 'Hip' 'Gambrel']\n",
      "RoofMatl ['CompShg']\n",
      "Exterior1st ['VinylSd' 'MetalSd' 'Wd Sdng' 'HdBoard' 'BrkFace' 'WdShing' 'CemntBd'\n",
      " 'Plywood' 'AsbShng']\n",
      "Exterior2nd ['VinylSd' 'MetalSd' 'Wd Shng' 'HdBoard' 'Plywood' 'Wd Sdng' 'CmentBd'\n",
      " 'BrkFace']\n",
      "ExterQual ['Gd' 'TA' 'Ex']\n",
      "ExterCond ['TA' 'Gd' 'Fa']\n",
      "Foundation ['PConc' 'CBlock' 'BrkTil' 'Wood' 'Slab']\n",
      "Heating ['GasA']\n",
      "HeatingQC ['Ex' 'Gd' 'TA' 'Fa']\n",
      "CentralAir ['Y' 'N']\n",
      "KitchenQual ['Gd' 'TA' 'Ex' 'Fa']\n",
      "Functional ['Typ' 'Min1']\n",
      "PavedDrive ['Y' 'N' 'P']\n",
      "SaleType ['WD' 'New' 'COD']\n",
      "SaleCondition ['Normal' 'Abnorml' 'Partial' 'AdjLand']\n"
     ]
    }
   ],
   "source": [
    "#check any  df_test_clean : df_train_clean\n",
    "for col in df_train_clean.dtypes[df_train_clean.dtypes=='object'].index:\n",
    "    print(col,df_train_clean[col].head(50).unique())"
   ]
  },
  {
   "cell_type": "markdown",
   "metadata": {},
   "source": [
    "###### Int"
   ]
  },
  {
   "cell_type": "code",
   "execution_count": 17,
   "metadata": {},
   "outputs": [
    {
     "data": {
      "text/plain": [
       "Index(['Id', 'MSSubClass', 'LotArea', 'OverallQual', 'OverallCond',\n",
       "       'YearBuilt', 'YearRemodAdd', 'BsmtFinSF1', 'BsmtFinSF2', 'BsmtUnfSF',\n",
       "       'TotalBsmtSF', '1stFlrSF', '2ndFlrSF', 'LowQualFinSF', 'GrLivArea',\n",
       "       'BsmtFullBath', 'BsmtHalfBath', 'FullBath', 'HalfBath', 'BedroomAbvGr',\n",
       "       'KitchenAbvGr', 'TotRmsAbvGrd', 'Fireplaces', 'GarageCars',\n",
       "       'GarageArea', 'WoodDeckSF', 'OpenPorchSF', 'EnclosedPorch', '3SsnPorch',\n",
       "       'ScreenPorch', 'PoolArea', 'MiscVal', 'MoSold', 'YrSold', 'SalePrice'],\n",
       "      dtype='object')"
      ]
     },
     "execution_count": 17,
     "metadata": {},
     "output_type": "execute_result"
    }
   ],
   "source": [
    "#check any  df_test_clean : df_train_clean\n",
    "df_train_clean.dtypes[df_train_clean.dtypes=='int64'].index"
   ]
  },
  {
   "cell_type": "code",
   "execution_count": 18,
   "metadata": {},
   "outputs": [
    {
     "name": "stdout",
     "output_type": "stream",
     "text": [
      "Id [ 1  2  3  4  5  6  7  8  9 10 11 12 13 14 15 16 17 18 19 20 21 22 23 24\n",
      " 25 26 27 28 29 30 31 32 33 34 35 36 37 38 39 40 41 42 43 44 45 46 47 48\n",
      " 49 50]\n",
      "MSSubClass [ 60  20  70  50 190  45  90 120  30  85]\n",
      "LotArea [ 8450  9600 11250  9550 14260 14115 10084 10382  6120  7420 11200 11924\n",
      " 12968 10652 10920 11241 10791 13695  7560 14215  7449  9742  4224  8246\n",
      " 14230  7200 11478 16321  6324  8500  8544 11049 10552  7313 13418 10859\n",
      "  8532  7922  6040  8658 16905  9180  9200  7945  7658 12822 11096  4456\n",
      "  7742]\n",
      "OverallQual [7 6 8 5 9 4]\n",
      "OverallCond [5 8 6 7 4]\n",
      "YearBuilt [2003 1976 2001 1915 2000 1993 2004 1973 1931 1939 1965 2005 1962 2006\n",
      " 1960 1929 1970 1967 1958 1930 2002 1968 2007 1951 1957 1927 1920 1966\n",
      " 1959 1994 1954 1953 1955 1983 1975]\n",
      "YearRemodAdd [2003 1976 2002 1970 2000 1995 2005 1973 1950 1965 2006 1962 2007 1960\n",
      " 2001 1967 2004 2008 1997 1959 1990 1955 1983 1980 1966]\n",
      "BsmtFinSF1 [ 706  978  486  216  655  732 1369  859    0  851  906  998  737  733\n",
      "  578  646  504  840  188  234 1218 1277 1018 1153 1213  731  643  967\n",
      "  747  280  179  456 1351   24  763]\n",
      "BsmtFinSF2 [  0  32 668 486  93 491 506]\n",
      "BsmtUnfSF [ 150  284  434  540  490   64  317  216  952  140  134  177  175 1494\n",
      "  520  832  426    0  468  525 1158  637 1777  200  204 1566  180  486\n",
      "  207  649 1228 1234  380  408 1117 1097   84  326  445  383  167  465\n",
      " 1296   83 1632  736  192]\n",
      "TotalBsmtSF [ 856 1262  920  756 1145  796 1686 1107  952  991 1040 1175  912 1494\n",
      " 1253  832 1004    0 1114 1029 1158  637 1777 1060 1566  900 1704 1484\n",
      "  520  649 1228 1234 1398 1561 1117 1097 1297 1057 1088 1350  840  938\n",
      " 1150 1752 1434 1656  736  955]\n",
      "1stFlrSF [ 856 1262  920  961 1145  796 1694 1107 1022 1077 1040 1182  912 1494\n",
      " 1253  854 1004 1296 1114 1339 1158 1108 1795 1060 1600  900 1704  520\n",
      "  649 1228 1234 1700 1561 1132 1097 1297 1057 1152 1324 1328  884  938\n",
      " 1150 1752 1518 1656  736  955]\n",
      "2ndFlrSF [ 854    0  866  756 1053  566  983  752 1142 1218  668 1320  631  716]\n",
      "LowQualFinSF [0]\n",
      "GrLivArea [1710 1262 1786 1717 2198 1362 1694 2090 1774 1077 1040 2324  912 1494\n",
      " 1253  854 1004 1296 1114 1339 2376 1108 1795 1060 1600  900 1704  520\n",
      " 1317 1228 1234 1700 1561 2452 1097 1297 1057 1152 1324 1328  884  938\n",
      " 1150 1752 2149 1656 1452  955]\n",
      "BsmtFullBath [1 0]\n",
      "BsmtHalfBath [0 1]\n",
      "FullBath [2 1 3]\n",
      "HalfBath [1 0]\n",
      "BedroomAbvGr [3 4 1 2]\n",
      "KitchenAbvGr [1 2 3]\n",
      "TotRmsAbvGrd [ 8  6  7  9  5 11  4]\n",
      "Fireplaces [0 1 2]\n",
      "GarageCars [2 3 1 0]\n",
      "GarageArea [548 460 608 642 836 480 636 484 468 205 384 736 352 840 576 516 294 853\n",
      " 280 534 572 270 890 772 319 240 250 271 447 556 691 672 498 246   0 440\n",
      " 308 504 300 670 826 386]\n",
      "WoodDeckSF [  0 298 192  40 255 235  90 147 140 160  48 240 171 100 406 222 288  49\n",
      " 203 113 392 145 196 168]\n",
      "OpenPorchSF [ 61   0  42  35  84  30  57 204   4  21  33 213 112 102 154 159 110  90\n",
      "  56  32  50 258  54  65  38  47  64  52 138 104  82  43 146]\n",
      "EnclosedPorch [  0 272 228 205 176  87 172 102]\n",
      "3SsnPorch [  0 320]\n",
      "ScreenPorch [  0 176 198]\n",
      "PoolArea [0]\n",
      "MiscVal [  0 700 350 500]\n",
      "MoSold [ 2  5  9 12 10  8 11  4  1  7  3  6]\n",
      "YrSold [2008 2007 2006 2009 2010]\n",
      "SalePrice [208500 181500 223500 140000 250000 143000 307000 200000 129900 118000\n",
      " 129500 345000 144000 279500 157000 132000 149000  90000 159000 139000\n",
      " 325300 139400 230000 154000 256300 134800 306000 207500  68500  40000\n",
      " 149350 179900 165500 277500 309000 145000 153000 109000  82000 160000\n",
      " 170000 130250 141000 319900 239686 249700 113000 127000]\n"
     ]
    }
   ],
   "source": [
    "#check any  df_test_clean : df_train_clean\n",
    "for col in df_train_clean.dtypes[df_train_clean.dtypes=='int64'].index:\n",
    "    print(col,df_train_clean[col].head(50).unique())"
   ]
  },
  {
   "cell_type": "code",
   "execution_count": null,
   "metadata": {},
   "outputs": [],
   "source": []
  },
  {
   "cell_type": "code",
   "execution_count": null,
   "metadata": {},
   "outputs": [],
   "source": []
  },
  {
   "cell_type": "markdown",
   "metadata": {},
   "source": [
    "#####    Transoformation None 'nan' Catagorical Feature "
   ]
  },
  {
   "cell_type": "code",
   "execution_count": 19,
   "metadata": {
    "scrolled": false
   },
   "outputs": [
    {
     "name": "stdout",
     "output_type": "stream",
     "text": [
      "[3.0, 3.0, 3.0, 3.0, 3.0, 3.0, 3.0, 3.0, 4.0, 3.0]\n",
      "[1.0, 1.0, 1.0, 1.0, 1.0, 1.0, 1.0, 1.0, 1.0, 1.0]\n",
      "[3.0, 3.0, 0.0, 0.0, 0.0, 0.0, 3.0, 0.0, 3.0, 3.0]\n",
      "[3.0, 3.0, 3.0, 3.0, 3.0, 3.0, 3.0, 3.0, 3.0, 3.0]\n",
      "[0.0, 0.0, 0.0, 0.0, 0.0, 0.0, 0.0, 0.0, 0.0, 0.0]\n",
      "[4.0, 2.0, 4.0, 0.0, 2.0, 4.0, 4.0, 0.0, 4.0, 0.0]\n",
      "[0.0, 0.0, 0.0, 0.0, 0.0, 0.0, 0.0, 0.0, 0.0, 0.0]\n",
      "[5.0, 24.0, 5.0, 6.0, 15.0, 11.0, 21.0, 14.0, 17.0, 3.0]\n",
      "[2.0, 1.0, 2.0, 2.0, 2.0, 2.0, 2.0, 4.0, 0.0, 0.0]\n",
      "[2.0, 2.0, 2.0, 2.0, 2.0, 2.0, 2.0, 2.0, 2.0, 0.0]\n",
      "[0.0, 0.0, 0.0, 0.0, 0.0, 0.0, 0.0, 0.0, 0.0, 1.0]\n",
      "[5.0, 2.0, 5.0, 5.0, 5.0, 0.0, 2.0, 5.0, 0.0, 1.0]\n",
      "[1.0, 1.0, 1.0, 1.0, 1.0, 1.0, 1.0, 1.0, 1.0, 1.0]\n",
      "[1.0, 1.0, 1.0, 1.0, 1.0, 1.0, 1.0, 1.0, 1.0, 1.0]\n",
      "[12.0, 8.0, 12.0, 13.0, 12.0, 12.0, 12.0, 6.0, 3.0, 8.0]\n",
      "[13.0, 8.0, 13.0, 15.0, 13.0, 13.0, 13.0, 6.0, 15.0, 8.0]\n",
      "[2.0, 3.0, 2.0, 3.0, 2.0, 3.0, 2.0, 3.0, 3.0, 3.0]\n",
      "[4.0, 4.0, 4.0, 4.0, 4.0, 4.0, 4.0, 4.0, 4.0, 4.0]\n",
      "[2.0, 1.0, 2.0, 0.0, 2.0, 5.0, 2.0, 1.0, 0.0, 0.0]\n",
      "[1.0, 1.0, 1.0, 1.0, 1.0, 1.0, 1.0, 1.0, 1.0, 1.0]\n",
      "[0.0, 0.0, 0.0, 2.0, 0.0, 0.0, 0.0, 0.0, 2.0, 0.0]\n",
      "[1.0, 1.0, 1.0, 1.0, 1.0, 1.0, 1.0, 1.0, 1.0, 1.0]\n",
      "[2.0, 3.0, 2.0, 2.0, 2.0, 3.0, 2.0, 3.0, 3.0, 3.0]\n",
      "[6.0, 6.0, 6.0, 6.0, 6.0, 6.0, 6.0, 6.0, 2.0, 6.0]\n",
      "[2.0, 2.0, 2.0, 2.0, 2.0, 2.0, 2.0, 2.0, 2.0, 2.0]\n",
      "[8.0, 8.0, 8.0, 8.0, 8.0, 8.0, 8.0, 8.0, 8.0, 8.0]\n",
      "[4.0, 4.0, 4.0, 0.0, 4.0, 4.0, 4.0, 4.0, 0.0, 4.0]\n"
     ]
    }
   ],
   "source": [
    "for col in df_train_clean.dtypes[df_train_clean.dtypes=='object'].index:\n",
    "    '''All object data will be convert to float'''\n",
    "    df_train_clean[col]=LabelEncoder().fit_transform(list(df_train_clean[col])).astype(float)\n",
    "    print(list(df_train_clean[col].head(10)))    "
   ]
  },
  {
   "cell_type": "code",
   "execution_count": 20,
   "metadata": {},
   "outputs": [],
   "source": [
    "# for col in df_test_clean.dtypes[df_test_clean.dtypes=='object'].index:\n",
    "#     '''All object data will be convert to float'''\n",
    "#     df_test_clean[col]=LabelEncoder().fit_transform(list(df_test_clean[col])).astype(float)\n",
    "#     print(list(df_test_clean[col].head(10)))    "
   ]
  },
  {
   "cell_type": "markdown",
   "metadata": {},
   "source": [
    "#####    Take Dadtaset back to It's Position Local Training"
   ]
  },
  {
   "cell_type": "code",
   "execution_count": 81,
   "metadata": {},
   "outputs": [],
   "source": [
    "# df_train=df_train_clean.iloc[:1460]\n",
    "# df_test=df_train_clean.iloc[1460:]\n",
    "\n",
    "df_train=df_train_clean\n",
    "\n",
    "# df_train_clean"
   ]
  },
  {
   "cell_type": "code",
   "execution_count": 82,
   "metadata": {},
   "outputs": [],
   "source": [
    "# df_test=df_test_clean\n",
    "# df_train=df_train_clean"
   ]
  },
  {
   "cell_type": "code",
   "execution_count": 83,
   "metadata": {},
   "outputs": [
    {
     "data": {
      "text/plain": [
       "Series([], dtype: int64)"
      ]
     },
     "execution_count": 83,
     "metadata": {},
     "output_type": "execute_result"
    }
   ],
   "source": [
    "# check df_trian | df_test\n",
    "nans=pd.isnull(df_train).sum()\n",
    "nans[nans>0]"
   ]
  },
  {
   "cell_type": "code",
   "execution_count": 84,
   "metadata": {},
   "outputs": [
    {
     "data": {
      "text/plain": [
       "float64    46\n",
       "int64      35\n",
       "dtype: int64"
      ]
     },
     "execution_count": 84,
     "metadata": {},
     "output_type": "execute_result"
    }
   ],
   "source": [
    "# check df_trian | df_test\n",
    "df_train_clean.dtypes.value_counts()"
   ]
  },
  {
   "cell_type": "markdown",
   "metadata": {},
   "source": [
    "#### Heatmap for Missing data"
   ]
  },
  {
   "cell_type": "code",
   "execution_count": 85,
   "metadata": {},
   "outputs": [
    {
     "data": {
      "text/plain": [
       "<matplotlib.axes._subplots.AxesSubplot at 0x1c22af5190>"
      ]
     },
     "execution_count": 85,
     "metadata": {},
     "output_type": "execute_result"
    },
    {
     "data": {
      "image/png": "[encoded data removed]",
      "text/plain": [
       "<Figure size 432x288 with 1 Axes>"
      ]
     },
     "metadata": {},
     "output_type": "display_data"
    }
   ],
   "source": [
    "#check \n",
    "sns.heatmap(df_train.isnull(),yticklabels=False,cbar=False)"
   ]
  },
  {
   "cell_type": "markdown",
   "metadata": {},
   "source": [
    "### Build ML model and compare the performance of the selected feature"
   ]
  },
  {
   "cell_type": "code",
   "execution_count": 86,
   "metadata": {},
   "outputs": [],
   "source": [
    "def run_randomForest(X_train_l,y_train_l, X_test_l, y_test_l):\n",
    "    clf_gb = GradientBoostingRegressor(n_estimators=200,random_state=0)\n",
    "    clf_gb.fit(X_train_l,y_train_l)\n",
    "    y_pred_gb = clf_gb.predict(X_test_l)\n",
    "    print(\"Mean Squer Error\",mean_squared_error(y_test_l,y_pred_gb))\n",
    "    print(\"sqrt of Mean Sauer Error \",np.sqrt(mean_squared_error(y_test_l,y_pred_gb)))\n",
    "\n",
    "\n",
    "\n",
    "\n"
   ]
  },
  {
   "cell_type": "code",
   "execution_count": 87,
   "metadata": {},
   "outputs": [],
   "source": [
    "scaled_dataset = StandardScaler().fit_transform(df_train)\n",
    "scaled_dataset=pd.DataFrame(scaled_dataset,columns=df_train.columns)\n",
    "\n",
    "\n",
    "X=scaled_dataset.drop('SalePrice',axis=1)\n",
    "y=scaled_dataset['SalePrice']\n",
    "\n"
   ]
  },
  {
   "cell_type": "code",
   "execution_count": 88,
   "metadata": {},
   "outputs": [
    {
     "data": {
      "text/plain": [
       "((1168, 80), (292, 80), (1168,), (292,))"
      ]
     },
     "execution_count": 88,
     "metadata": {},
     "output_type": "execute_result"
    }
   ],
   "source": [
    "\n",
    "x_train, x_test, y_train, y_test = train_test_split(X, y, test_size=0.2, random_state = 0)\n",
    "# X_train, X_test, y_train, y_test = train_test_split(X, y, test_size = 0.2, random_state = 0, stratify = y)\n",
    "len(x_train.columns),x_train.columns\n",
    "x_train.shape, x_test.shape, y_train.shape, y_test.shape"
   ]
  },
  {
   "cell_type": "markdown",
   "metadata": {},
   "source": [
    "# Estimation of coefficients of Linear Regression"
   ]
  },
  {
   "cell_type": "code",
   "execution_count": 89,
   "metadata": {},
   "outputs": [],
   "source": [
    "sel=SelectFromModel(GradientBoostingRegressor(n_estimators=200,random_state=0))"
   ]
  },
  {
   "cell_type": "code",
   "execution_count": 90,
   "metadata": {},
   "outputs": [
    {
     "data": {
      "text/plain": [
       "SelectFromModel(estimator=GradientBoostingRegressor(alpha=0.9,\n",
       "                                                    criterion='friedman_mse',\n",
       "                                                    init=None,\n",
       "                                                    learning_rate=0.1,\n",
       "                                                    loss='ls', max_depth=3,\n",
       "                                                    max_features=None,\n",
       "                                                    max_leaf_nodes=None,\n",
       "                                                    min_impurity_decrease=0.0,\n",
       "                                                    min_impurity_split=None,\n",
       "                                                    min_samples_leaf=1,\n",
       "                                                    min_samples_split=2,\n",
       "                                                    min_weight_fraction_leaf=0.0,\n",
       "                                                    n_estimators=200,\n",
       "                                                    n_iter_no_change=None,\n",
       "                                                    presort='auto',\n",
       "                                                    random_state=0,\n",
       "                                                    subsample=1.0, tol=0.0001,\n",
       "                                                    validation_fraction=0.1,\n",
       "                                                    verbose=0,\n",
       "                                                    warm_start=False),\n",
       "                max_features=None, norm_order=1, prefit=False, threshold=None)"
      ]
     },
     "execution_count": 90,
     "metadata": {},
     "output_type": "execute_result"
    }
   ],
   "source": [
    "sel.fit(x_train,y_train)"
   ]
  },
  {
   "cell_type": "code",
   "execution_count": 91,
   "metadata": {},
   "outputs": [
    {
     "data": {
      "text/plain": [
       "array([False, False, False, False, False, False,  True, False, False,\n",
       "       False, False, False, False, False, False, False, False,  True,\n",
       "       False, False, False, False, False, False, False, False, False,\n",
       "       False, False, False,  True, False, False, False,  True, False,\n",
       "       False, False,  True, False, False, False, False,  True, False,\n",
       "       False,  True, False, False, False, False, False, False, False,\n",
       "       False, False, False, False, False, False, False,  True, False,\n",
       "       False, False, False, False, False, False, False, False, False,\n",
       "        True, False, False, False, False, False, False, False])"
      ]
     },
     "execution_count": 91,
     "metadata": {},
     "output_type": "execute_result"
    }
   ],
   "source": [
    "sel.get_support()"
   ]
  },
  {
   "cell_type": "code",
   "execution_count": 92,
   "metadata": {},
   "outputs": [],
   "source": [
    "# sel.estimator_.coef_"
   ]
  },
  {
   "cell_type": "code",
   "execution_count": 93,
   "metadata": {},
   "outputs": [],
   "source": [
    "# mean = np.mean(np.abs(sel.estimator_.coef_))"
   ]
  },
  {
   "cell_type": "code",
   "execution_count": 94,
   "metadata": {},
   "outputs": [],
   "source": [
    "# mean"
   ]
  },
  {
   "cell_type": "code",
   "execution_count": 95,
   "metadata": {},
   "outputs": [],
   "source": [
    "# np.abs(sel.estimator_.coef_)"
   ]
  },
  {
   "cell_type": "code",
   "execution_count": 96,
   "metadata": {},
   "outputs": [
    {
     "data": {
      "text/plain": [
       "Index(['Alley', 'OverallQual', 'BsmtQual', 'BsmtFinSF1', 'TotalBsmtSF',\n",
       "       '1stFlrSF', 'GrLivArea', 'GarageCars', 'PoolQC'],\n",
       "      dtype='object')"
      ]
     },
     "execution_count": 96,
     "metadata": {},
     "output_type": "execute_result"
    }
   ],
   "source": [
    "features = x_train.columns[sel.get_support()]\n",
    "features\n"
   ]
  },
  {
   "cell_type": "code",
   "execution_count": 97,
   "metadata": {},
   "outputs": [],
   "source": [
    "\n",
    "X_train_reg = sel.transform(x_train)\n",
    "X_test_reg = sel.transform(x_test)\n"
   ]
  },
  {
   "cell_type": "code",
   "execution_count": 98,
   "metadata": {},
   "outputs": [
    {
     "data": {
      "text/plain": [
       "(292, 9)"
      ]
     },
     "execution_count": 98,
     "metadata": {},
     "output_type": "execute_result"
    }
   ],
   "source": [
    "\n",
    "X_test_reg.shape"
   ]
  },
  {
   "cell_type": "code",
   "execution_count": 99,
   "metadata": {},
   "outputs": [
    {
     "name": "stdout",
     "output_type": "stream",
     "text": [
      "Mean Squer Error 0.09754349139496073\n",
      "sqrt of Mean Sauer Error  0.31231953412324487\n",
      "CPU times: user 148 ms, sys: 2.59 ms, total: 151 ms\n",
      "Wall time: 150 ms\n"
     ]
    }
   ],
   "source": [
    "%%time\n",
    "run_randomForest(X_train_reg, y_train,X_test_reg, y_test)"
   ]
  },
  {
   "cell_type": "code",
   "execution_count": 100,
   "metadata": {},
   "outputs": [
    {
     "name": "stdout",
     "output_type": "stream",
     "text": [
      "Mean Squer Error 0.08520220717249559\n",
      "sqrt of Mean Sauer Error  0.29189417118622907\n",
      "CPU times: user 571 ms, sys: 3.43 ms, total: 574 ms\n",
      "Wall time: 574 ms\n"
     ]
    }
   ],
   "source": [
    "%%time\n",
    "run_randomForest(x_train, y_train,x_test, y_test)"
   ]
  },
  {
   "cell_type": "markdown",
   "metadata": {},
   "source": [
    "## Feature selection by feature importance of random forest classifier"
   ]
  },
  {
   "cell_type": "code",
   "execution_count": 101,
   "metadata": {},
   "outputs": [
    {
     "data": {
      "text/plain": [
       "array([False, False, False, False, False, False,  True, False, False,\n",
       "       False, False, False, False, False, False, False, False,  True,\n",
       "       False, False, False, False, False, False, False, False, False,\n",
       "       False, False, False,  True, False, False, False,  True, False,\n",
       "       False, False,  True, False, False, False, False,  True, False,\n",
       "       False,  True, False, False, False, False, False, False, False,\n",
       "       False, False, False, False, False, False, False,  True, False,\n",
       "       False, False, False, False, False, False, False, False, False,\n",
       "        True, False, False, False, False, False, False, False])"
      ]
     },
     "execution_count": 101,
     "metadata": {},
     "output_type": "execute_result"
    }
   ],
   "source": [
    "sel = SelectFromModel(GradientBoostingRegressor(n_estimators=200,random_state=0))\n",
    "sel.fit(x_train, y_train)\n",
    "sel.get_support()"
   ]
  },
  {
   "cell_type": "code",
   "execution_count": 102,
   "metadata": {},
   "outputs": [],
   "source": [
    "feature=x_train.columns[sel.get_support()]"
   ]
  },
  {
   "cell_type": "code",
   "execution_count": 103,
   "metadata": {},
   "outputs": [
    {
     "data": {
      "text/plain": [
       "Index(['Alley', 'OverallQual', 'BsmtQual', 'BsmtFinSF1', 'TotalBsmtSF',\n",
       "       '1stFlrSF', 'GrLivArea', 'GarageCars', 'PoolQC'],\n",
       "      dtype='object')"
      ]
     },
     "execution_count": 103,
     "metadata": {},
     "output_type": "execute_result"
    }
   ],
   "source": [
    "features"
   ]
  },
  {
   "cell_type": "code",
   "execution_count": 104,
   "metadata": {},
   "outputs": [
    {
     "data": {
      "text/plain": [
       "0.0125"
      ]
     },
     "execution_count": 104,
     "metadata": {},
     "output_type": "execute_result"
    }
   ],
   "source": [
    "np.mean(sel.estimator_.feature_importances_)"
   ]
  },
  {
   "cell_type": "code",
   "execution_count": 105,
   "metadata": {},
   "outputs": [
    {
     "data": {
      "text/plain": [
       "array([6.99053604e-04, 1.74739082e-04, 1.59981321e-03, 2.00374394e-03,\n",
       "       9.04837490e-03, 0.00000000e+00, 3.41084612e-02, 9.24795432e-05,\n",
       "       2.31137563e-06, 0.00000000e+00, 9.51234332e-05, 3.25017413e-04,\n",
       "       1.31785755e-03, 4.40616875e-04, 1.17105694e-04, 6.70483010e-06,\n",
       "       1.29089522e-04, 1.67017400e-01, 3.80087874e-03, 4.79768165e-03,\n",
       "       3.55135926e-03, 6.73815747e-04, 8.68023139e-04, 6.21644815e-04,\n",
       "       1.08181502e-04, 1.78969472e-04, 2.09792801e-03, 2.71241784e-04,\n",
       "       9.13068303e-05, 1.05281982e-04, 1.34343206e-02, 2.26613634e-04,\n",
       "       1.57999323e-03, 1.00879337e-03, 2.81043138e-02, 1.28558992e-04,\n",
       "       3.18350371e-04, 1.69085513e-03, 2.50867857e-02, 0.00000000e+00,\n",
       "       8.76607781e-05, 2.79615487e-03, 0.00000000e+00, 1.85963391e-02,\n",
       "       6.51883311e-03, 3.81501224e-04, 7.45942630e-02, 2.21474502e-04,\n",
       "       1.39918773e-04, 5.20139578e-04, 5.97247587e-05, 5.12659878e-05,\n",
       "       6.21102959e-05, 2.39012278e-03, 6.37678423e-03, 2.57741173e-04,\n",
       "       2.44089169e-03, 6.08827145e-04, 3.20436155e-03, 5.54950285e-03,\n",
       "       6.73793255e-04, 5.48286014e-02, 3.55289468e-03, 1.67729788e-04,\n",
       "       0.00000000e+00, 1.66608742e-05, 1.23135826e-03, 7.17957398e-04,\n",
       "       3.81044005e-04, 8.32511337e-05, 4.87027966e-04, 4.79548379e-04,\n",
       "       4.86572186e-01, 1.19892646e-02, 0.00000000e+00, 1.00718139e-05,\n",
       "       5.14085012e-03, 1.71145322e-04, 3.27178311e-04, 2.38902899e-03])"
      ]
     },
     "execution_count": 105,
     "metadata": {},
     "output_type": "execute_result"
    }
   ],
   "source": [
    "sel.estimator_.feature_importances_"
   ]
  },
  {
   "cell_type": "code",
   "execution_count": 106,
   "metadata": {},
   "outputs": [],
   "source": [
    "x_train_rfc=sel.transform(x_train)\n",
    "x_test_rfc=sel.transform(x_test)"
   ]
  },
  {
   "cell_type": "code",
   "execution_count": 107,
   "metadata": {},
   "outputs": [
    {
     "name": "stdout",
     "output_type": "stream",
     "text": [
      "Mean Squer Error 0.09754349139496073\n",
      "sqrt of Mean Sauer Error  0.31231953412324487\n",
      "CPU times: user 143 ms, sys: 2.49 ms, total: 146 ms\n",
      "Wall time: 144 ms\n"
     ]
    }
   ],
   "source": [
    "%%time\n",
    "run_randomForest(x_train_rfc, y_train,x_test_rfc, y_test)"
   ]
  },
  {
   "cell_type": "markdown",
   "metadata": {},
   "source": [
    "# Recursive Feature Elimination (RFE)"
   ]
  },
  {
   "cell_type": "code",
   "execution_count": 108,
   "metadata": {},
   "outputs": [
    {
     "data": {
      "text/plain": [
       "RFE(estimator=GradientBoostingRegressor(alpha=0.9, criterion='friedman_mse',\n",
       "                                        init=None, learning_rate=0.1, loss='ls',\n",
       "                                        max_depth=3, max_features=None,\n",
       "                                        max_leaf_nodes=None,\n",
       "                                        min_impurity_decrease=0.0,\n",
       "                                        min_impurity_split=None,\n",
       "                                        min_samples_leaf=1, min_samples_split=2,\n",
       "                                        min_weight_fraction_leaf=0.0,\n",
       "                                        n_estimators=200, n_iter_no_change=None,\n",
       "                                        presort='auto', random_state=0,\n",
       "                                        subsample=1.0, tol=0.0001,\n",
       "                                        validation_fraction=0.1, verbose=0,\n",
       "                                        warm_start=False),\n",
       "    n_features_to_select=None, step=1, verbose=0)"
      ]
     },
     "execution_count": 108,
     "metadata": {},
     "output_type": "execute_result"
    }
   ],
   "source": [
    "from sklearn.feature_selection import RFE\n",
    "sel = RFE(GradientBoostingRegressor(n_estimators=200,random_state=0))\n",
    "sel.fit(x_train, y_train)\n"
   ]
  },
  {
   "cell_type": "code",
   "execution_count": null,
   "metadata": {},
   "outputs": [],
   "source": []
  },
  {
   "cell_type": "code",
   "execution_count": 109,
   "metadata": {},
   "outputs": [
    {
     "data": {
      "text/plain": [
       "array([ True, False,  True,  True,  True, False,  True, False, False,\n",
       "       False, False, False,  True, False, False, False, False,  True,\n",
       "        True,  True,  True, False, False,  True, False, False,  True,\n",
       "       False, False, False,  True, False,  True,  True,  True, False,\n",
       "        True,  True,  True, False, False,  True, False,  True,  True,\n",
       "        True,  True, False, False, False, False, False, False,  True,\n",
       "        True, False,  True,  True,  True,  True,  True,  True,  True,\n",
       "       False, False, False,  True,  True, False, False, False,  True,\n",
       "        True,  True, False, False,  True, False, False,  True])"
      ]
     },
     "execution_count": 109,
     "metadata": {},
     "output_type": "execute_result"
    }
   ],
   "source": [
    "sel.get_support()"
   ]
  },
  {
   "cell_type": "code",
   "execution_count": 110,
   "metadata": {},
   "outputs": [],
   "source": [
    "feature=x_train.columns[sel.get_support()]"
   ]
  },
  {
   "cell_type": "code",
   "execution_count": 111,
   "metadata": {},
   "outputs": [
    {
     "data": {
      "text/plain": [
       "Index(['Id', 'MSZoning', 'LotFrontage', 'LotArea', 'Alley', 'Neighborhood',\n",
       "       'OverallQual', 'OverallCond', 'YearBuilt', 'YearRemodAdd',\n",
       "       'Exterior1st', 'MasVnrArea', 'BsmtQual', 'BsmtExposure', 'BsmtFinType1',\n",
       "       'BsmtFinSF1', 'BsmtFinSF2', 'BsmtUnfSF', 'TotalBsmtSF', 'CentralAir',\n",
       "       '1stFlrSF', '2ndFlrSF', 'LowQualFinSF', 'GrLivArea', 'KitchenQual',\n",
       "       'TotRmsAbvGrd', 'Fireplaces', 'FireplaceQu', 'GarageType',\n",
       "       'GarageYrBlt', 'GarageFinish', 'GarageCars', 'GarageArea', 'WoodDeckSF',\n",
       "       'OpenPorchSF', 'PoolArea', 'PoolQC', 'Fence', 'MoSold',\n",
       "       'SaleCondition'],\n",
       "      dtype='object')"
      ]
     },
     "execution_count": 111,
     "metadata": {},
     "output_type": "execute_result"
    }
   ],
   "source": [
    "feature"
   ]
  },
  {
   "cell_type": "code",
   "execution_count": 112,
   "metadata": {},
   "outputs": [
    {
     "data": {
      "text/plain": [
       "40"
      ]
     },
     "execution_count": 112,
     "metadata": {},
     "output_type": "execute_result"
    }
   ],
   "source": [
    "\n",
    "len(feature)\n"
   ]
  },
  {
   "cell_type": "code",
   "execution_count": 113,
   "metadata": {},
   "outputs": [],
   "source": [
    "x_train_rfe=sel.transform(x_train)\n",
    "x_test_rfe=sel.transform(x_test)"
   ]
  },
  {
   "cell_type": "code",
   "execution_count": 114,
   "metadata": {},
   "outputs": [
    {
     "name": "stdout",
     "output_type": "stream",
     "text": [
      "Mean Squer Error 0.07624449279990299\n",
      "sqrt of Mean Sauer Error  0.27612405328022943\n",
      "CPU times: user 370 ms, sys: 2.93 ms, total: 373 ms\n",
      "Wall time: 371 ms\n"
     ]
    }
   ],
   "source": [
    "%%time\n",
    "run_randomForest(x_train_rfe, y_train,x_test_rfe, y_test)"
   ]
  },
  {
   "cell_type": "code",
   "execution_count": 115,
   "metadata": {},
   "outputs": [],
   "source": [
    "\n",
    "# X=df_train.drop('SalePrice',axis=1)\n",
    "# y=df_train['SalePrice']\n",
    "# from sklearn.ensemble import ExtraTreesRegressor\n",
    "# clf_gb = ExtraTreesRegressor(n_estimators=200)\n",
    "# clf_gb.fit(x_train,y_train)\n",
    "# y_pred_gb = clf_gb.predict(df_test)\n"
   ]
  },
  {
   "cell_type": "code",
   "execution_count": 116,
   "metadata": {},
   "outputs": [],
   "source": [
    "# pred=pd.DataFrame(y_pred_gb)\n",
    "# sub_df=pd.read_csv('sample_submission.csv')\n",
    "# datasets=pd.concat([sub_df['Id'],pred],axis=1)\n",
    "# datasets.columns=['Id','SalePrice']\n",
    "# datasets.to_csv('sample_submission.csv',index=False)"
   ]
  },
  {
   "cell_type": "markdown",
   "metadata": {},
   "source": [
    "# Feature Visualization"
   ]
  },
  {
   "cell_type": "markdown",
   "metadata": {},
   "source": [
    "###### prepare dataset"
   ]
  },
  {
   "cell_type": "code",
   "execution_count": 117,
   "metadata": {},
   "outputs": [],
   "source": [
    "#selected feature \n",
    "feature_list=[]\n",
    "feature_list.extend(feature)\n",
    "feature_list.append(\"SalePrice\")"
   ]
  },
  {
   "cell_type": "code",
   "execution_count": 118,
   "metadata": {},
   "outputs": [],
   "source": [
    "#selected base data triming\n",
    "df_dummy=df_train[feature_list]\n",
    "\n",
    "# corrmat=df_train[feature_list].corr()\n",
    "\n",
    "# k = 11 #number of variables for heatmap\n",
    "# best_col = corrmat.nlargest(k, 'SalePrice')['SalePrice'].index\n",
    "# best_col"
   ]
  },
  {
   "cell_type": "markdown",
   "metadata": {},
   "source": [
    "###### HeatMape"
   ]
  },
  {
   "cell_type": "code",
   "execution_count": 119,
   "metadata": {},
   "outputs": [
    {
     "data": {
      "text/plain": [
       "<matplotlib.axes._subplots.AxesSubplot at 0x1c22b85290>"
      ]
     },
     "execution_count": 119,
     "metadata": {},
     "output_type": "execute_result"
    },
    {
     "data": {
      "image/png": "[encoded data removed]",
      "text/plain": [
       "<Figure size 864x648 with 2 Axes>"
      ]
     },
     "metadata": {},
     "output_type": "display_data"
    }
   ],
   "source": [
    "corrmat=df_dummy.corr()\n",
    "f,a=plt.subplots(figsize=(12,9))\n",
    "sns.heatmap(corrmat,vmax=.8,square=True)"
   ]
  },
  {
   "cell_type": "code",
   "execution_count": 120,
   "metadata": {},
   "outputs": [
    {
     "data": {
      "image/png": "[encoded data removed]",
      "text/plain": [
       "<Figure size 432x288 with 2 Axes>"
      ]
     },
     "metadata": {},
     "output_type": "display_data"
    }
   ],
   "source": [
    "#saleprice correlation matrix\n",
    "k = 11 #number of variables for heatmap\n",
    "cols = corrmat.nlargest(k, 'SalePrice')['SalePrice'].index\n",
    "\n",
    "cm = np.corrcoef(df_dummy[cols].values.T)\n",
    "sns.set(font_scale=1.25)\n",
    "hm = sns.heatmap(cm, cbar=True, annot=True, square=True, fmt='.2f', annot_kws={'size': 10}, yticklabels=cols.values, xticklabels=cols.values)\n",
    "plt.show()"
   ]
  },
  {
   "cell_type": "markdown",
   "metadata": {},
   "source": [
    "    According to our crystal ball, these are the variables most correlated with 'SalePrice'. My thoughts on this:\n",
    "\n",
    "    'OverallQual', 'GrLivArea' and 'TotalBsmtSF' are strongly correlated with 'SalePrice'. Check!\n",
    "    'GarageCars' and 'GarageArea' are also some of the most strongly correlated variables. However, as we discussed \n",
    "    in the last sub-point, the number of cars that fit into the garage is a consequence of the garage area. \n",
    "    'GarageCars' and 'GarageArea' are like twin brothers. You'll never be able to distinguish them. Therefore, we \n",
    "    just need one of these variables in our analysis (we can keep 'GarageCars' since its correlation with \n",
    "    'SalePrice' is higher).\n",
    "    'TotalBsmtSF' and '1stFloor' also seem to be twin brothers. We can keep 'TotalBsmtSF' just to say that our \n",
    "    first \n",
    "    guess was right (re-read 'So... What can we expect?').\n",
    "    'FullBath'?? Really?\n",
    "    'TotRmsAbvGrd' and 'GrLivArea', twin brothers again. Is this dataset from Chernobyl?\n",
    "    Ah... 'YearBuilt'... It seems that 'YearBuilt' is slightly correlated with 'SalePrice'. Honestly, it scares me to \n",
    "    think about 'YearBuilt' because I start feeling that we should do a little bit of time-series analysis to get \n",
    "    this right. I'll leave this as a homework for you.\n",
    "    Let's proceed to the scatter plots."
   ]
  },
  {
   "cell_type": "markdown",
   "metadata": {},
   "source": [
    "###### Scatter plot"
   ]
  },
  {
   "cell_type": "code",
   "execution_count": 121,
   "metadata": {},
   "outputs": [],
   "source": [
    "# k = 15 #number of variables for heatmap\n",
    "# cols = corrmat.nlargest(k, 'SalePrice')['SalePrice'].index\n",
    "# cols\n",
    "# sns.set()\n",
    "# sns.pairplot(df_dummy[cols], size = 2.5)\n",
    "# plt.show();"
   ]
  },
  {
   "cell_type": "markdown",
   "metadata": {},
   "source": [
    "###### Dealing Missing Value"
   ]
  },
  {
   "cell_type": "code",
   "execution_count": 122,
   "metadata": {},
   "outputs": [
    {
     "data": {
      "text/html": [
       "<div>\n",
       "<style scoped>\n",
       "    .dataframe tbody tr th:only-of-type {\n",
       "        vertical-align: middle;\n",
       "    }\n",
       "\n",
       "    .dataframe tbody tr th {\n",
       "        vertical-align: top;\n",
       "    }\n",
       "\n",
       "    .dataframe thead th {\n",
       "        text-align: right;\n",
       "    }\n",
       "</style>\n",
       "<table border=\"1\" class=\"dataframe\">\n",
       "  <thead>\n",
       "    <tr style=\"text-align: right;\">\n",
       "      <th></th>\n",
       "      <th>Total</th>\n",
       "      <th>Percent</th>\n",
       "    </tr>\n",
       "  </thead>\n",
       "  <tbody>\n",
       "    <tr>\n",
       "      <td>MasVnrArea</td>\n",
       "      <td>0</td>\n",
       "      <td>0.0</td>\n",
       "    </tr>\n",
       "    <tr>\n",
       "      <td>YearRemodAdd</td>\n",
       "      <td>0</td>\n",
       "      <td>0.0</td>\n",
       "    </tr>\n",
       "    <tr>\n",
       "      <td>YearBuilt</td>\n",
       "      <td>0</td>\n",
       "      <td>0.0</td>\n",
       "    </tr>\n",
       "    <tr>\n",
       "      <td>TotRmsAbvGrd</td>\n",
       "      <td>0</td>\n",
       "      <td>0.0</td>\n",
       "    </tr>\n",
       "    <tr>\n",
       "      <td>1stFlrSF</td>\n",
       "      <td>0</td>\n",
       "      <td>0.0</td>\n",
       "    </tr>\n",
       "    <tr>\n",
       "      <td>TotalBsmtSF</td>\n",
       "      <td>0</td>\n",
       "      <td>0.0</td>\n",
       "    </tr>\n",
       "    <tr>\n",
       "      <td>GarageArea</td>\n",
       "      <td>0</td>\n",
       "      <td>0.0</td>\n",
       "    </tr>\n",
       "    <tr>\n",
       "      <td>GarageCars</td>\n",
       "      <td>0</td>\n",
       "      <td>0.0</td>\n",
       "    </tr>\n",
       "    <tr>\n",
       "      <td>GrLivArea</td>\n",
       "      <td>0</td>\n",
       "      <td>0.0</td>\n",
       "    </tr>\n",
       "    <tr>\n",
       "      <td>OverallQual</td>\n",
       "      <td>0</td>\n",
       "      <td>0.0</td>\n",
       "    </tr>\n",
       "    <tr>\n",
       "      <td>SalePrice</td>\n",
       "      <td>0</td>\n",
       "      <td>0.0</td>\n",
       "    </tr>\n",
       "  </tbody>\n",
       "</table>\n",
       "</div>"
      ],
      "text/plain": [
       "              Total  Percent\n",
       "MasVnrArea        0      0.0\n",
       "YearRemodAdd      0      0.0\n",
       "YearBuilt         0      0.0\n",
       "TotRmsAbvGrd      0      0.0\n",
       "1stFlrSF          0      0.0\n",
       "TotalBsmtSF       0      0.0\n",
       "GarageArea        0      0.0\n",
       "GarageCars        0      0.0\n",
       "GrLivArea         0      0.0\n",
       "OverallQual       0      0.0\n",
       "SalePrice         0      0.0"
      ]
     },
     "execution_count": 122,
     "metadata": {},
     "output_type": "execute_result"
    }
   ],
   "source": [
    "k = 11 #number of variables for heatmap\n",
    "cols = corrmat.nlargest(k, 'SalePrice')['SalePrice'].index\n",
    "\n",
    "\n",
    "total=df_dummy[cols].isnull().sum().sort_values(ascending=False)\n",
    "percent=(df_dummy[cols].isnull().sum()/df_dummy[cols].isnull().count()).sort_values(ascending=False)\n",
    "missing_data=pd.concat([total,percent],axis=1,keys=['Total','Percent'])\n",
    "missing_data.head(20)"
   ]
  },
  {
   "cell_type": "markdown",
   "metadata": {},
   "source": [
    "# out Liars!"
   ]
  },
  {
   "cell_type": "markdown",
   "metadata": {},
   "source": [
    "    Outliers is also something that we should be aware of. Why? Because outliers can markedly affect our models and can be a valuable source of information, providing us insights about specific behaviours.\n",
    "\n",
    "    Outliers is a complex subject and it deserves more attention. Here, we'll just do a quick analysis through the standard deviation of 'SalePrice' and a set of scatter plots."
   ]
  },
  {
   "cell_type": "markdown",
   "metadata": {},
   "source": [
    "###### Univeriate"
   ]
  },
  {
   "cell_type": "code",
   "execution_count": 123,
   "metadata": {},
   "outputs": [
    {
     "name": "stdout",
     "output_type": "stream",
     "text": [
      "out range (low) of the distribution :\n",
      "[[-1.83870376]\n",
      " [-1.83352844]\n",
      " [-1.80092766]\n",
      " [-1.78329881]\n",
      " [-1.77448439]\n",
      " [-1.62337999]\n",
      " [-1.61708398]\n",
      " [-1.58560389]\n",
      " [-1.58560389]\n",
      " [-1.5731    ]]\n",
      "\n",
      "outer range (high) of the distrbution :\n",
      "[[3.82897043]\n",
      " [4.04098249]\n",
      " [4.49634819]\n",
      " [4.71041276]\n",
      " [4.73032076]\n",
      " [5.06214602]\n",
      " [5.42383959]\n",
      " [5.59185509]\n",
      " [7.10289909]\n",
      " [7.22881942]]\n"
     ]
    }
   ],
   "source": [
    "# #standardizing data\n",
    "k = 11 #number of variables for heatmap\n",
    "cols = corrmat.nlargest(k, 'SalePrice')['SalePrice'].index\n",
    "\n",
    "saleprice_scaled=StandardScaler().fit_transform(df_train['SalePrice'][:,np.newaxis])#np.newaxis turn 1d to 2d and 2d to 3d\n",
    "# low_range=saleprice_scaled[saleprice_scaled[:0]]\n",
    "low_range=saleprice_scaled[saleprice_scaled[:,0].argsort()][:10]#argsort give sorted indecies of higher score in sorted order \n",
    "high_range=saleprice_scaled[saleprice_scaled[:,0].argsort()][-10:]\n",
    "print('out range (low) of the distribution :')\n",
    "print(low_range)\n",
    "print('\\nouter range (high) of the distrbution :')\n",
    "print(high_range)\n"
   ]
  },
  {
   "cell_type": "markdown",
   "metadata": {},
   "source": [
    "### Bivariate analysis"
   ]
  },
  {
   "cell_type": "markdown",
   "metadata": {},
   "source": [
    "###### 1 GrLivArea"
   ]
  },
  {
   "cell_type": "code",
   "execution_count": 124,
   "metadata": {},
   "outputs": [
    {
     "name": "stderr",
     "output_type": "stream",
     "text": [
      "'c' argument looks like a single numeric RGB or RGBA sequence, which should be avoided as value-mapping will have precedence in case its length matches with 'x' & 'y'.  Please use a 2-D array with a single row if you really want to specify the same RGB or RGBA value for all points.\n"
     ]
    },
    {
     "data": {
      "text/plain": [
       "<matplotlib.axes._subplots.AxesSubplot at 0x1c23713e50>"
      ]
     },
     "execution_count": 124,
     "metadata": {},
     "output_type": "execute_result"
    },
    {
     "data": {
      "image/png": "[encoded data removed]",
      "text/plain": [
       "<Figure size 432x288 with 1 Axes>"
      ]
     },
     "metadata": {},
     "output_type": "display_data"
    }
   ],
   "source": [
    "#bivarate analysis saleprice/grlivarea\n",
    "#selecting best column for it\n",
    "k = 11 #number of variables for heatmap\n",
    "cols = corrmat.nlargest(k, 'SalePrice')['SalePrice'].index\n",
    "\n",
    "var='GrLivArea'\n",
    "data=pd.concat([df_dummy['SalePrice'],df_dummy[var]],axis=1)\n",
    "data.plot.scatter(x=var,y=\"SalePrice\",ylim=(0,800000))"
   ]
  },
  {
   "cell_type": "markdown",
   "metadata": {},
   "source": [
    "###### identify outliers"
   ]
  },
  {
   "cell_type": "code",
   "execution_count": 125,
   "metadata": {},
   "outputs": [
    {
     "data": {
      "text/plain": [
       "count    1460.000000\n",
       "mean     1515.463699\n",
       "std       525.480383\n",
       "min       334.000000\n",
       "25%      1129.500000\n",
       "50%      1464.000000\n",
       "75%      1776.750000\n",
       "max      5642.000000\n",
       "Name: GrLivArea, dtype: float64"
      ]
     },
     "execution_count": 125,
     "metadata": {},
     "output_type": "execute_result"
    }
   ],
   "source": [
    "\n",
    "df_dummy['GrLivArea'].describe()\n"
   ]
  },
  {
   "cell_type": "markdown",
   "metadata": {},
   "source": [
    "###### Remove outlier"
   ]
  },
  {
   "cell_type": "code",
   "execution_count": 126,
   "metadata": {},
   "outputs": [
    {
     "data": {
      "text/plain": [
       "1298    5642\n",
       "523     4676\n",
       "1182    4476\n",
       "691     4316\n",
       "1169    3627\n",
       "185     3608\n",
       "304     3493\n",
       "1268    3447\n",
       "635     3395\n",
       "769     3279\n",
       "Name: GrLivArea, dtype: int64"
      ]
     },
     "execution_count": 126,
     "metadata": {},
     "output_type": "execute_result"
    }
   ],
   "source": [
    "# df_train.sort_values(by = 'GrLivArea', ascending = False)[:2]\n",
    "df_dummy.sort_values(by='GrLivArea',ascending=False)['GrLivArea'][:10]"
   ]
  },
  {
   "cell_type": "code",
   "execution_count": null,
   "metadata": {},
   "outputs": [],
   "source": []
  },
  {
   "cell_type": "code",
   "execution_count": 127,
   "metadata": {},
   "outputs": [],
   "source": [
    "# df_dummy = df_dummy.drop(df_dummy[df_dummy['Id'] == 1298].index)\n",
    "# df_dummy = df_dummy.drop(df_dummy[df_dummy['Id'] == 523].index)\n",
    "df_dummy=df_dummy.drop(1298,axis=0)\n",
    "df_dummy=df_dummy.drop(523,axis=0)"
   ]
  },
  {
   "cell_type": "code",
   "execution_count": 128,
   "metadata": {},
   "outputs": [
    {
     "data": {
      "text/plain": [
       "1182    4476\n",
       "691     4316\n",
       "1169    3627\n",
       "185     3608\n",
       "304     3493\n",
       "1268    3447\n",
       "635     3395\n",
       "769     3279\n",
       "1353    3238\n",
       "496     3228\n",
       "Name: GrLivArea, dtype: int64"
      ]
     },
     "execution_count": 128,
     "metadata": {},
     "output_type": "execute_result"
    }
   ],
   "source": [
    "df_dummy.sort_values(by='GrLivArea',ascending=False)['GrLivArea'][:10]"
   ]
  },
  {
   "cell_type": "code",
   "execution_count": 129,
   "metadata": {},
   "outputs": [
    {
     "name": "stderr",
     "output_type": "stream",
     "text": [
      "'c' argument looks like a single numeric RGB or RGBA sequence, which should be avoided as value-mapping will have precedence in case its length matches with 'x' & 'y'.  Please use a 2-D array with a single row if you really want to specify the same RGB or RGBA value for all points.\n"
     ]
    },
    {
     "data": {
      "text/plain": [
       "<matplotlib.axes._subplots.AxesSubplot at 0x1c23784fd0>"
      ]
     },
     "execution_count": 129,
     "metadata": {},
     "output_type": "execute_result"
    },
    {
     "data": {
      "image/png": "[encoded data removed]",
      "text/plain": [
       "<Figure size 432x288 with 1 Axes>"
      ]
     },
     "metadata": {},
     "output_type": "display_data"
    }
   ],
   "source": [
    "k = 11 #number of variables for heatmap\n",
    "cols = corrmat.nlargest(k, 'SalePrice')['SalePrice'].index\n",
    "\n",
    "var='GrLivArea'\n",
    "data=pd.concat([df_dummy['SalePrice'],df_dummy[var]],axis=1)\n",
    "data.plot.scatter(x=var,y=\"SalePrice\",ylim=(0,800000))"
   ]
  },
  {
   "cell_type": "code",
   "execution_count": null,
   "metadata": {},
   "outputs": [],
   "source": []
  },
  {
   "cell_type": "code",
   "execution_count": 138,
   "metadata": {},
   "outputs": [],
   "source": [
    "scaled_dataset = StandardScaler().fit_transform(df_dummy)\n",
    "scaled_dataset=pd.DataFrame(scaled_dataset,columns=df_dummy.columns)\n",
    "\n",
    "\n",
    "X=scaled_dataset.drop('SalePrice',axis=1)\n",
    "y=scaled_dataset['SalePrice']\n"
   ]
  },
  {
   "cell_type": "code",
   "execution_count": 139,
   "metadata": {},
   "outputs": [
    {
     "data": {
      "text/plain": [
       "((1166, 40), (292, 40), (1166,), (292,))"
      ]
     },
     "execution_count": 139,
     "metadata": {},
     "output_type": "execute_result"
    }
   ],
   "source": [
    "\n",
    "x_train, x_test, y_train, y_test = train_test_split(X, y, test_size=0.2, random_state = 0)\n",
    "# X_train, X_test, y_train, y_test = train_test_split(X, y, test_size = 0.2, random_state = 0, stratify = y)\n",
    "len(x_train.columns),x_train.columns\n",
    "x_train.shape, x_test.shape, y_train.shape, y_test.shape"
   ]
  },
  {
   "cell_type": "code",
   "execution_count": 140,
   "metadata": {},
   "outputs": [
    {
     "name": "stdout",
     "output_type": "stream",
     "text": [
      "Mean Squer Error 0.06266762134413409\n",
      "sqrt of Mean Sauer Error  0.25033501821386095\n",
      "CPU times: user 370 ms, sys: 2.83 ms, total: 373 ms\n",
      "Wall time: 372 ms\n"
     ]
    }
   ],
   "source": [
    "%%time\n",
    "run_randomForest(x_train, y_train,x_test, y_test)"
   ]
  }
 ],
 "metadata": {
  "kernelspec": {
   "display_name": "Python 3",
   "language": "python",
   "name": "python3"
  },
  "language_info": {
   "codemirror_mode": {
    "name": "ipython",
    "version": 3
   },
   "file_extension": ".py",
   "mimetype": "text/x-python",
   "name": "python",
   "nbconvert_exporter": "python",
   "pygments_lexer": "ipython3",
   "version": "3.7.4"
  }
 },
 "nbformat": 4,
 "nbformat_minor": 2
}
